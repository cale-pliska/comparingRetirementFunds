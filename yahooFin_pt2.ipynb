{
 "cells": [
  {
   "cell_type": "code",
   "execution_count": 2,
   "metadata": {},
   "outputs": [
    {
     "name": "stdout",
     "output_type": "stream",
     "text": [
      "Collecting yahoofinancials\n",
      "  Downloading yahoofinancials-1.6.tar.gz (27 kB)\n"
     ]
    },
    {
     "name": "stderr",
     "output_type": "stream",
     "text": [
      "WARNING: You are using pip version 21.1.1; however, version 21.3.1 is available.\n",
      "You should consider upgrading via the 'C:\\Users\\calep\\AppData\\Local\\Programs\\Python\\Python39\\python.exe -m pip install --upgrade pip' command.\n"
     ]
    },
    {
     "name": "stdout",
     "output_type": "stream",
     "text": [
      "Requirement already satisfied: beautifulsoup4 in c:\\users\\calep\\appdata\\local\\programs\\python\\python39\\lib\\site-packages (from yahoofinancials) (4.10.0)\n",
      "Requirement already satisfied: pytz in c:\\users\\calep\\appdata\\local\\programs\\python\\python39\\lib\\site-packages (from yahoofinancials) (2021.1)\n",
      "Requirement already satisfied: soupsieve>1.2 in c:\\users\\calep\\appdata\\local\\programs\\python\\python39\\lib\\site-packages (from beautifulsoup4->yahoofinancials) (2.3.1)\n",
      "Using legacy 'setup.py install' for yahoofinancials, since package 'wheel' is not installed.\n",
      "Installing collected packages: yahoofinancials\n",
      "    Running setup.py install for yahoofinancials: started\n",
      "    Running setup.py install for yahoofinancials: finished with status 'done'\n",
      "Successfully installed yahoofinancials-1.6\n"
     ]
    }
   ],
   "source": [
    "#install yahoofinancials\n",
    "# !{sys.executable} -m pip install yahoofinancials"
   ]
  },
  {
   "cell_type": "code",
   "execution_count": 3,
   "metadata": {},
   "outputs": [],
   "source": [
    "import pandas as pd\n",
    "import yfinance as yf\n",
    "from yahoofinancials import YahooFinancials"
   ]
  },
  {
   "cell_type": "code",
   "execution_count": 11,
   "metadata": {},
   "outputs": [],
   "source": [
    "vwuax = yf.Ticker(\"VWUAX\")\n",
    "vwuax = vwuax.history(period = \"2y\")"
   ]
  },
  {
   "cell_type": "code",
   "execution_count": 12,
   "metadata": {},
   "outputs": [
    {
     "data": {
      "text/plain": [
       "0.224"
      ]
     },
     "execution_count": 12,
     "metadata": {},
     "output_type": "execute_result"
    }
   ],
   "source": [
    "max(vwuax['Dividends'])"
   ]
  },
  {
   "cell_type": "code",
   "execution_count": null,
   "metadata": {},
   "outputs": [],
   "source": []
  }
 ],
 "metadata": {
  "interpreter": {
   "hash": "c3e7881a579cc55531a9f7a6b7c597219f2cf791d0c91f6f5435769c0def3c7a"
  },
  "kernelspec": {
   "display_name": "Python 3.9.5 64-bit",
   "language": "python",
   "name": "python3"
  },
  "language_info": {
   "codemirror_mode": {
    "name": "ipython",
    "version": 3
   },
   "file_extension": ".py",
   "mimetype": "text/x-python",
   "name": "python",
   "nbconvert_exporter": "python",
   "pygments_lexer": "ipython3",
   "version": "3.9.5"
  },
  "orig_nbformat": 4
 },
 "nbformat": 4,
 "nbformat_minor": 2
}
