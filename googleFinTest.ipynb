{
 "metadata": {
  "language_info": {
   "codemirror_mode": {
    "name": "ipython",
    "version": 3
   },
   "file_extension": ".py",
   "mimetype": "text/x-python",
   "name": "python",
   "nbconvert_exporter": "python",
   "pygments_lexer": "ipython3",
   "version": "3.9.5"
  },
  "orig_nbformat": 4,
  "kernelspec": {
   "name": "python3",
   "display_name": "Python 3.9.5 64-bit"
  },
  "interpreter": {
   "hash": "c3e7881a579cc55531a9f7a6b7c597219f2cf791d0c91f6f5435769c0def3c7a"
  }
 },
 "nbformat": 4,
 "nbformat_minor": 2,
 "cells": [
  {
   "cell_type": "code",
   "execution_count": 50,
   "metadata": {},
   "outputs": [],
   "source": [
    "import pandas as pd\n",
    "import datetime"
   ]
  },
  {
   "cell_type": "code",
   "execution_count": 203,
   "metadata": {},
   "outputs": [
    {
     "output_type": "execute_result",
     "data": {
      "text/plain": [
       "                 Date   Close\n",
       "Date                         \n",
       "2002-09-03 2002-09-03   31.82\n",
       "2002-09-04 2002-09-04   32.57\n",
       "2002-09-05 2002-09-05   31.96\n",
       "2002-09-06 2002-09-06   32.74\n",
       "2002-09-09 2002-09-09   33.04\n",
       "...               ...     ...\n",
       "2021-09-20 2021-09-20  191.99\n",
       "2021-09-21 2021-09-21  192.97\n",
       "2021-09-22 2021-09-22  195.00\n",
       "2021-09-23 2021-09-23  197.19\n",
       "2021-09-24 2021-09-24  196.68\n",
       "\n",
       "[4802 rows x 2 columns]"
      ],
      "text/html": "<div>\n<style scoped>\n    .dataframe tbody tr th:only-of-type {\n        vertical-align: middle;\n    }\n\n    .dataframe tbody tr th {\n        vertical-align: top;\n    }\n\n    .dataframe thead th {\n        text-align: right;\n    }\n</style>\n<table border=\"1\" class=\"dataframe\">\n  <thead>\n    <tr style=\"text-align: right;\">\n      <th></th>\n      <th>Date</th>\n      <th>Close</th>\n    </tr>\n    <tr>\n      <th>Date</th>\n      <th></th>\n      <th></th>\n    </tr>\n  </thead>\n  <tbody>\n    <tr>\n      <th>2002-09-03</th>\n      <td>2002-09-03</td>\n      <td>31.82</td>\n    </tr>\n    <tr>\n      <th>2002-09-04</th>\n      <td>2002-09-04</td>\n      <td>32.57</td>\n    </tr>\n    <tr>\n      <th>2002-09-05</th>\n      <td>2002-09-05</td>\n      <td>31.96</td>\n    </tr>\n    <tr>\n      <th>2002-09-06</th>\n      <td>2002-09-06</td>\n      <td>32.74</td>\n    </tr>\n    <tr>\n      <th>2002-09-09</th>\n      <td>2002-09-09</td>\n      <td>33.04</td>\n    </tr>\n    <tr>\n      <th>...</th>\n      <td>...</td>\n      <td>...</td>\n    </tr>\n    <tr>\n      <th>2021-09-20</th>\n      <td>2021-09-20</td>\n      <td>191.99</td>\n    </tr>\n    <tr>\n      <th>2021-09-21</th>\n      <td>2021-09-21</td>\n      <td>192.97</td>\n    </tr>\n    <tr>\n      <th>2021-09-22</th>\n      <td>2021-09-22</td>\n      <td>195.00</td>\n    </tr>\n    <tr>\n      <th>2021-09-23</th>\n      <td>2021-09-23</td>\n      <td>197.19</td>\n    </tr>\n    <tr>\n      <th>2021-09-24</th>\n      <td>2021-09-24</td>\n      <td>196.68</td>\n    </tr>\n  </tbody>\n</table>\n<p>4802 rows × 2 columns</p>\n</div>"
     },
     "metadata": {},
     "execution_count": 203
    }
   ],
   "source": [
    "#inputing test data from csv exported from google Finance from google sheets\n",
    "\n",
    "vwuax = pd.read_csv(\"VWUAX.csv\")\n",
    "#converting csv datetime to pandas datetime obj\n",
    "vwuax['Date'] = pd.to_datetime(vwuax['Date'])\n",
    "#set Date as the index but keep it as a column in the data\n",
    "vwuax = vwuax.set_index(\"Date\", drop=False)\n",
    "vwuax"
   ]
  },
  {
   "cell_type": "code",
   "execution_count": 204,
   "metadata": {},
   "outputs": [
    {
     "output_type": "execute_result",
     "data": {
      "text/plain": [
       "                 Date   Close\n",
       "Date                         \n",
       "2011-09-26 2011-09-26   45.05\n",
       "2011-09-27 2011-09-27   45.62\n",
       "2011-09-28 2011-09-28   44.50\n",
       "2011-09-29 2011-09-29   44.19\n",
       "2011-09-30 2011-09-30   42.82\n",
       "...               ...     ...\n",
       "2021-09-20 2021-09-20  191.99\n",
       "2021-09-21 2021-09-21  192.97\n",
       "2021-09-22 2021-09-22  195.00\n",
       "2021-09-23 2021-09-23  197.19\n",
       "2021-09-24 2021-09-24  196.68\n",
       "\n",
       "[2557 rows x 2 columns]"
      ],
      "text/html": "<div>\n<style scoped>\n    .dataframe tbody tr th:only-of-type {\n        vertical-align: middle;\n    }\n\n    .dataframe tbody tr th {\n        vertical-align: top;\n    }\n\n    .dataframe thead th {\n        text-align: right;\n    }\n</style>\n<table border=\"1\" class=\"dataframe\">\n  <thead>\n    <tr style=\"text-align: right;\">\n      <th></th>\n      <th>Date</th>\n      <th>Close</th>\n    </tr>\n    <tr>\n      <th>Date</th>\n      <th></th>\n      <th></th>\n    </tr>\n  </thead>\n  <tbody>\n    <tr>\n      <th>2011-09-26</th>\n      <td>2011-09-26</td>\n      <td>45.05</td>\n    </tr>\n    <tr>\n      <th>2011-09-27</th>\n      <td>2011-09-27</td>\n      <td>45.62</td>\n    </tr>\n    <tr>\n      <th>2011-09-28</th>\n      <td>2011-09-28</td>\n      <td>44.50</td>\n    </tr>\n    <tr>\n      <th>2011-09-29</th>\n      <td>2011-09-29</td>\n      <td>44.19</td>\n    </tr>\n    <tr>\n      <th>2011-09-30</th>\n      <td>2011-09-30</td>\n      <td>42.82</td>\n    </tr>\n    <tr>\n      <th>...</th>\n      <td>...</td>\n      <td>...</td>\n    </tr>\n    <tr>\n      <th>2021-09-20</th>\n      <td>2021-09-20</td>\n      <td>191.99</td>\n    </tr>\n    <tr>\n      <th>2021-09-21</th>\n      <td>2021-09-21</td>\n      <td>192.97</td>\n    </tr>\n    <tr>\n      <th>2021-09-22</th>\n      <td>2021-09-22</td>\n      <td>195.00</td>\n    </tr>\n    <tr>\n      <th>2021-09-23</th>\n      <td>2021-09-23</td>\n      <td>197.19</td>\n    </tr>\n    <tr>\n      <th>2021-09-24</th>\n      <td>2021-09-24</td>\n      <td>196.68</td>\n    </tr>\n  </tbody>\n</table>\n<p>2557 rows × 2 columns</p>\n</div>"
     },
     "metadata": {},
     "execution_count": 204
    }
   ],
   "source": [
    "# checking with data pulled right from the NASDAQ\n",
    "nasdaq = pd.read_csv(\"NASDAQ_VWUAX.csv\")\n",
    "\n",
    "#converting csv datetime to pandas datetime obj\n",
    "nasdaq['Date'] = pd.to_datetime(nasdaq['Date'])\n",
    "#set Date as the index but keep it as a column in the data\n",
    "nasdaq = nasdaq.set_index(\"Date\", drop=False)\n",
    "\n",
    "#get only relevant data\n",
    "nasdaq = nasdaq[[\"Date\", \"Close/Last\"]]\n",
    "#rename columns so they are consistent\n",
    "nasdaq = nasdaq.rename(columns={\"Close/Last\": \"Close\"})\n",
    "#sort data so oldest is on top, if it is sorted differently the %change calculation change is differen\n",
    "nasdaq = nasdaq.sort_index()\n",
    "nasdaq[\"Close\"]"
   ]
  },
  {
   "cell_type": "code",
   "execution_count": 205,
   "metadata": {},
   "outputs": [],
   "source": [
    "def get_returns(df, input_date, filter_on, date_col_name=\"Date\"):\n",
    "    df = _date_filter(df, input_date, filter_on, date_col_name)\n",
    "    change_series = _calculate_change(df)\n",
    "    df = df.assign(e=pd.Series(change_series).values)\n",
    "    df = df.rename(columns={\"e\": \"% Change\"})\n",
    "    return df\n",
    "    \n",
    "def _date_filter(df, input_datetime_obj, filter_on=\"y\", date_col_name=\"Date\"):\n",
    "    if filter_on == \"m\":\n",
    "        return df.loc[df[date_col_name].dt.month == input_datetime_obj.month]\n",
    "    if filter_on == \"y\":\n",
    "        df = df.loc[df[date_col_name].dt.month == input_datetime_obj.month] \n",
    "        return df.loc[df[date_col_name].dt.day == input_datetime_obj.day]\n",
    "\n",
    "def _calculate_change(df):\n",
    "    return df[\"Close\"].pct_change()\n",
    "\n"
   ]
  },
  {
   "cell_type": "code",
   "execution_count": 208,
   "metadata": {},
   "outputs": [],
   "source": [
    "#setting a date used for analysis\n",
    "date = datetime.datetime(2021, 9, 1)"
   ]
  },
  {
   "cell_type": "code",
   "execution_count": 209,
   "metadata": {},
   "outputs": [
    {
     "output_type": "execute_result",
     "data": {
      "text/plain": [
       "                 Date   Close  % Change\n",
       "Date                                   \n",
       "2004-09-01 2004-09-01   37.37       NaN\n",
       "2005-09-01 2005-09-01   43.48  0.163500\n",
       "2006-09-01 2006-09-01   44.37  0.020469\n",
       "2009-09-01 2009-09-01   37.69 -0.150552\n",
       "2010-09-01 2010-09-01   39.39  0.045105\n",
       "2011-09-01 2011-09-01   46.39  0.177710\n",
       "2015-09-01 2015-09-01   77.89  0.679026\n",
       "2016-09-01 2016-09-01   78.64  0.009629\n",
       "2017-09-01 2017-09-01   92.22  0.172686\n",
       "2020-09-01 2020-09-01  164.34  0.782043\n",
       "2021-09-01 2021-09-01  198.97  0.210722"
      ],
      "text/html": "<div>\n<style scoped>\n    .dataframe tbody tr th:only-of-type {\n        vertical-align: middle;\n    }\n\n    .dataframe tbody tr th {\n        vertical-align: top;\n    }\n\n    .dataframe thead th {\n        text-align: right;\n    }\n</style>\n<table border=\"1\" class=\"dataframe\">\n  <thead>\n    <tr style=\"text-align: right;\">\n      <th></th>\n      <th>Date</th>\n      <th>Close</th>\n      <th>% Change</th>\n    </tr>\n    <tr>\n      <th>Date</th>\n      <th></th>\n      <th></th>\n      <th></th>\n    </tr>\n  </thead>\n  <tbody>\n    <tr>\n      <th>2004-09-01</th>\n      <td>2004-09-01</td>\n      <td>37.37</td>\n      <td>NaN</td>\n    </tr>\n    <tr>\n      <th>2005-09-01</th>\n      <td>2005-09-01</td>\n      <td>43.48</td>\n      <td>0.163500</td>\n    </tr>\n    <tr>\n      <th>2006-09-01</th>\n      <td>2006-09-01</td>\n      <td>44.37</td>\n      <td>0.020469</td>\n    </tr>\n    <tr>\n      <th>2009-09-01</th>\n      <td>2009-09-01</td>\n      <td>37.69</td>\n      <td>-0.150552</td>\n    </tr>\n    <tr>\n      <th>2010-09-01</th>\n      <td>2010-09-01</td>\n      <td>39.39</td>\n      <td>0.045105</td>\n    </tr>\n    <tr>\n      <th>2011-09-01</th>\n      <td>2011-09-01</td>\n      <td>46.39</td>\n      <td>0.177710</td>\n    </tr>\n    <tr>\n      <th>2015-09-01</th>\n      <td>2015-09-01</td>\n      <td>77.89</td>\n      <td>0.679026</td>\n    </tr>\n    <tr>\n      <th>2016-09-01</th>\n      <td>2016-09-01</td>\n      <td>78.64</td>\n      <td>0.009629</td>\n    </tr>\n    <tr>\n      <th>2017-09-01</th>\n      <td>2017-09-01</td>\n      <td>92.22</td>\n      <td>0.172686</td>\n    </tr>\n    <tr>\n      <th>2020-09-01</th>\n      <td>2020-09-01</td>\n      <td>164.34</td>\n      <td>0.782043</td>\n    </tr>\n    <tr>\n      <th>2021-09-01</th>\n      <td>2021-09-01</td>\n      <td>198.97</td>\n      <td>0.210722</td>\n    </tr>\n  </tbody>\n</table>\n</div>"
     },
     "metadata": {},
     "execution_count": 209
    }
   ],
   "source": [
    "get_returns(vwuax, date, \"y\")"
   ]
  },
  {
   "cell_type": "code",
   "execution_count": 210,
   "metadata": {},
   "outputs": [
    {
     "output_type": "execute_result",
     "data": {
      "text/plain": [
       "                 Date   Close  % Change\n",
       "Date                                   \n",
       "2014-09-01 2014-09-01   80.37       NaN\n",
       "2015-09-01 2015-09-01   77.89 -0.030857\n",
       "2016-09-01 2016-09-01   78.64  0.009629\n",
       "2017-09-01 2017-09-01   92.22  0.172686\n",
       "2020-09-01 2020-09-01  164.34  0.782043\n",
       "2021-09-01 2021-09-01  198.97  0.210722"
      ],
      "text/html": "<div>\n<style scoped>\n    .dataframe tbody tr th:only-of-type {\n        vertical-align: middle;\n    }\n\n    .dataframe tbody tr th {\n        vertical-align: top;\n    }\n\n    .dataframe thead th {\n        text-align: right;\n    }\n</style>\n<table border=\"1\" class=\"dataframe\">\n  <thead>\n    <tr style=\"text-align: right;\">\n      <th></th>\n      <th>Date</th>\n      <th>Close</th>\n      <th>% Change</th>\n    </tr>\n    <tr>\n      <th>Date</th>\n      <th></th>\n      <th></th>\n      <th></th>\n    </tr>\n  </thead>\n  <tbody>\n    <tr>\n      <th>2014-09-01</th>\n      <td>2014-09-01</td>\n      <td>80.37</td>\n      <td>NaN</td>\n    </tr>\n    <tr>\n      <th>2015-09-01</th>\n      <td>2015-09-01</td>\n      <td>77.89</td>\n      <td>-0.030857</td>\n    </tr>\n    <tr>\n      <th>2016-09-01</th>\n      <td>2016-09-01</td>\n      <td>78.64</td>\n      <td>0.009629</td>\n    </tr>\n    <tr>\n      <th>2017-09-01</th>\n      <td>2017-09-01</td>\n      <td>92.22</td>\n      <td>0.172686</td>\n    </tr>\n    <tr>\n      <th>2020-09-01</th>\n      <td>2020-09-01</td>\n      <td>164.34</td>\n      <td>0.782043</td>\n    </tr>\n    <tr>\n      <th>2021-09-01</th>\n      <td>2021-09-01</td>\n      <td>198.97</td>\n      <td>0.210722</td>\n    </tr>\n  </tbody>\n</table>\n</div>"
     },
     "metadata": {},
     "execution_count": 210
    }
   ],
   "source": [
    "get_returns(nasdaq, date, \"y\")"
   ]
  },
  {
   "cell_type": "code",
   "execution_count": null,
   "metadata": {},
   "outputs": [],
   "source": []
  }
 ]
}